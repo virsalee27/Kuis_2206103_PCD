{
  "nbformat": 4,
  "nbformat_minor": 0,
  "metadata": {
    "colab": {
      "provenance": [],
      "authorship_tag": "ABX9TyMG4Oe6yujZO6syt/2JQ1t9",
      "include_colab_link": true
    },
    "kernelspec": {
      "name": "python3",
      "display_name": "Python 3"
    },
    "language_info": {
      "name": "python"
    }
  },
  "cells": [
    {
      "cell_type": "markdown",
      "metadata": {
        "id": "view-in-github",
        "colab_type": "text"
      },
      "source": [
        "<a href=\"https://colab.research.google.com/github/virsalee27/Kuis_2206103_PCD/blob/main/3_Perbandingan_Operator.ipynb\" target=\"_parent\"><img src=\"https://colab.research.google.com/assets/colab-badge.svg\" alt=\"Open In Colab\"/></a>"
      ]
    },
    {
      "cell_type": "markdown",
      "source": [
        "# Akurasi Pendeteksian"
      ],
      "metadata": {
        "id": "W87J0gudahbd"
      }
    },
    {
      "cell_type": "markdown",
      "source": [
        "1. Sobel:\n",
        "* Akurasi sedang. Mendeteksi perubahan intensitas dalam arah horizontal dan\n",
        "vertikal menggunakan kernel berbeda.\n",
        "* Lebih sensitif terhadap derau karena tidak ada mekanisme penghalusan bawaan.\n",
        "2. Prewitt:\n",
        "* Akurasi sedikit lebih rendah dibanding Sobel, karena bobot kernel Prewitt * * * lebih sederhana dan tidak memperhatikan jarak piksel secara proporsional.\n",
        "* Cocok untuk kasus sederhana dengan derau rendah.\n",
        "3. Canny:\n",
        "* Akurasi tinggi karena menggunakan pendekatan multi-tahap: penyaringan Gaussian untuk mengurangi derau, pendeteksian gradien, penekanan non-maksimal, dan pelacakan tepi berbasis histeresis.\n",
        "* Dapat mendeteksi tepi tipis dan mengurangi false positive"
      ],
      "metadata": {
        "id": "f5cVCwcZaokh"
      }
    },
    {
      "cell_type": "markdown",
      "source": [
        "# Kompleksitas Komputasi"
      ],
      "metadata": {
        "id": "K1bWrnXHaiA7"
      }
    },
    {
      "cell_type": "markdown",
      "source": [
        "1. Sobel:\n",
        "* Kompleksitas rendah. Hanya melibatkan konvolusi sederhana dengan kernel tetap.\n",
        "* Cocok untuk aplikasi real-time atau perangkat dengan sumber daya terbatas.\n",
        "2. Prewitt:\n",
        "* Kompleksitas serupa dengan Sobel, bahkan sedikit lebih rendah karena kernel sederhana.\n",
        "* Digunakan untuk operasi yang cepat tetapi tidak memerlukan akurasi tinggi.\n",
        "3. Canny:\n",
        "* Kompleksitas tinggi. Melibatkan beberapa langkah: penghalusan, gradien, dan pelacakan tepi.\n",
        "* Memerlukan lebih banyak waktu dan memori dibanding Sobel atau Prewitt, sehingga kurang ideal untuk sistem yang memiliki batasan waktu atau daya komputasi."
      ],
      "metadata": {
        "id": "iV6HmFkAbR6B"
      }
    },
    {
      "cell_type": "markdown",
      "source": [
        "# Situasi Canny direkomendasikan"
      ],
      "metadata": {
        "id": "igjdpzfjaimn"
      }
    },
    {
      "cell_type": "markdown",
      "source": [
        "Operator Canny direkomendasikan dalam situasi berikut:\n",
        "\n",
        "1. Ketelitian Tinggi Diperlukan:\n",
        "* Jika aplikasi membutuhkan tepi yang tipis dan jelas, seperti dalam analisis medis (misalnya, deteksi pembuluh darah dalam citra MRI) atau pengenalan wajah.\n",
        "2. Citra dengan Derau:\n",
        "* Ketika citra memiliki derau yang signifikan, karena penyaringan Gaussian Canny mengurangi derau sebelum pendeteksian tepi.\n",
        "3. Objek dengan Tepi Kompleks:\n",
        "* Untuk citra yang memiliki banyak objek dengan tepi yang berdekatan, seperti dalam analisis citra satelit atau visi komputer.\n"
      ],
      "metadata": {
        "id": "X8NwbSxhboAS"
      }
    }
  ]
}