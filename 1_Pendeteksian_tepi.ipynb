{
  "nbformat": 4,
  "nbformat_minor": 0,
  "metadata": {
    "colab": {
      "provenance": [],
      "authorship_tag": "ABX9TyOGaVIcsu4EuDdyzk3lLBuc",
      "include_colab_link": true
    },
    "kernelspec": {
      "name": "python3",
      "display_name": "Python 3"
    },
    "language_info": {
      "name": "python"
    }
  },
  "cells": [
    {
      "cell_type": "markdown",
      "metadata": {
        "id": "view-in-github",
        "colab_type": "text"
      },
      "source": [
        "<a href=\"https://colab.research.google.com/github/virsalee27/Kuis_2206103_PCD/blob/main/1_Pendeteksian_tepi.ipynb\" target=\"_parent\"><img src=\"https://colab.research.google.com/assets/colab-badge.svg\" alt=\"Open In Colab\"/></a>"
      ]
    },
    {
      "cell_type": "markdown",
      "source": [
        "1). Dalam citra digital, tepi mengacu pada peralihan intensitas yang signifikan antara piksel-piksel yang berdekatan. Tepi ini biasanya mengindikasikan batas-batas objek atau perubahan tekstur dalam gambar. Berikut adalah empat jenis tepi yang umum ditemukan:\n",
        "\n",
        "1. Tepi Langkah (Step Edge)\n",
        "Tepi langkah terjadi ketika ada perubahan intensitas yang tiba-tiba dan signifikan antara dua area dalam gambar. Perubahan ini berlangsung dalam jarak yang sangat pendek (biasanya hanya satu piksel). Contoh: batas antara objek gelap dan terang.\n",
        "\n",
        "2. Tepi Atap (Roof Edge)\n",
        "Tepi atap ditandai oleh perubahan intensitas yang lebih gradual, membentuk puncak atau atap di histogram intensitas. Perubahan intensitas ini terjadi dalam beberapa piksel sebelum kembali ke nilai awal. Tepi ini sering ditemukan pada tekstur atau pola yang bertransisi secara bertahap.\n",
        "\n",
        "3. Tepi Liniar (Line Edge)\n",
        "Tepi liniar muncul ketika ada pita sempit dengan intensitas yang berbeda dibandingkan area sekitarnya. Ini sering terlihat seperti garis terang atau gelap yang melintasi latar belakang dengan intensitas seragam.\n",
        "\n",
        "4. Tepi Sudut (Corner Edge)\n",
        "Tepi sudut adalah pertemuan antara dua tepi yang berbeda orientasi. Jenis tepi ini menunjukkan perubahan tajam dalam arah intensitas, biasanya terjadi di titik-titik seperti sudut bangunan atau perpotongan garis."
      ],
      "metadata": {
        "id": "FztgNAKsM5zu"
      }
    },
    {
      "cell_type": "markdown",
      "source": [
        "2). Berikut adalah contoh nyata dari masing-masing jenis tepi yang ditemukan dalam kehidupan sehari-hari:\n",
        "\n",
        "1. Tepi Langkah (Step Edge)\n",
        "Contoh:\n",
        "\n",
        "*   Perbatasan antara dinding putih dan pintu hitam.\n",
        "*   Garis horizon yang memisahkan laut dan langit pada hari cerah.\n",
        "*   Garis horizon yang memisahkan laut dan langit pada hari cerah.\n",
        "\n",
        "2. Tepi Atap (Roof Edge)\n",
        "Contoh:\n",
        "\n",
        "* Bayangan pohon pada jalan aspal yang berangsur-angsur memudar karena intensitas cahaya yang berubah.\n",
        "* Pola lipatan kain pada tirai yang terbentuk secara gradual.\n",
        "* Transisi dari area yang sedikit lebih gelap ke lebih terang pada permukaan benda melengkung, seperti bola.\n",
        "\n",
        "3. Tepi Liniar (Line Edge)\n",
        "Contoh:\n",
        "\n",
        "* Garis zebra cross pada jalan raya yang kontras dengan aspal.\n",
        "* Kabel listrik yang tergantung di udara dengan latar belakang langit.\n",
        "* Bingkai kaca jendela berwarna gelap pada dinding putih.\n",
        "\n",
        "4. Tepi Sudut (Corner Edge)\n",
        "Contoh:\n",
        "\n",
        "* Sudut meja di mana sisi horizontal dan vertikal bertemu.\n",
        "* Pojok sebuah bangunan tempat dua dinding bertemu.\n",
        "* Titik pertemuan pada jendela berbingkai kayu di mana garis vertikal dan\n",
        "\n"
      ],
      "metadata": {
        "id": "92GWRoHRNkP9"
      }
    },
    {
      "cell_type": "markdown",
      "source": [
        "3). Tepi dengan derau memerlukan pendekatan khusus karena derau (noise) dapat menyebabkan perubahan intensitas yang tidak teratur dalam citra. Akibatnya, pendeteksi tepi sering salah mengidentifikasi derau sebagai tepi, sehingga hasil deteksi menjadi tidak akurat. Misalnya, garis tepi yang seharusnya jelas dapat terganggu oleh derau, menghasilkan garis yang terputus atau berlebihan.\n",
        "\n",
        "Untuk mengatasi masalah ini, teknik pra-pemrosesan sering digunakan. Salah satu metode populer adalah filter Gaussian, yang berfungsi menghaluskan citra sehingga derau berkurang, tetapi tepi yang signifikan tetap terjaga. Alternatif lain adalah filter median, yang efektif menghapus derau impulsif, seperti \"salt-and-pepper noise,\" tanpa merusak struktur utama citra.\n",
        "\n",
        "Selain itu, metode deteksi tepi yang canggih seperti operator Canny dirancang untuk menangani derau. Metode ini mencakup langkah-langkah seperti penyaringan awal dengan Gaussian dan pelacakan tepi berbasis gradien untuk memastikan hanya tepi yang signifikan yang dideteksi. Dengan pendekatan ini, pendeteksian tepi menjadi lebih andal dan tetap mempertahankan detail penting dalam citra."
      ],
      "metadata": {
        "id": "cYrYm4mCPNLv"
      }
    }
  ]
}